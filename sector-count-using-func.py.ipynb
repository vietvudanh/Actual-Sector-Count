{
 "cells": [
  {
   "cell_type": "markdown",
   "metadata": {},
   "source": [
    "# rewrite `sector-count-using-func.py` using Notebook"
   ]
  },
  {
   "cell_type": "code",
   "execution_count": 1,
   "metadata": {},
   "outputs": [],
   "source": [
    "import pandas as pd\n",
    "import math as math\n",
    "import matplotlib.pyplot as plt\n",
    "import numpy as np\n",
    "import seaborn as sns"
   ]
  },
  {
   "cell_type": "code",
   "execution_count": 28,
   "metadata": {},
   "outputs": [],
   "source": [
    "# plot settings\n",
    "%matplotlib inline\n",
    "\n",
    "# seaborn setting\n",
    "sns.set()"
   ]
  },
  {
   "cell_type": "code",
   "execution_count": 4,
   "metadata": {},
   "outputs": [],
   "source": [
    "# read data\n",
    "DF = pd.read_csv(\"input.csv\", sep=',')"
   ]
  },
  {
   "cell_type": "code",
   "execution_count": 22,
   "metadata": {},
   "outputs": [
    {
     "data": {
      "text/html": [
       "<div>\n",
       "<style scoped>\n",
       "    .dataframe tbody tr th:only-of-type {\n",
       "        vertical-align: middle;\n",
       "    }\n",
       "\n",
       "    .dataframe tbody tr th {\n",
       "        vertical-align: top;\n",
       "    }\n",
       "\n",
       "    .dataframe thead th {\n",
       "        text-align: right;\n",
       "    }\n",
       "</style>\n",
       "<table border=\"1\" class=\"dataframe\">\n",
       "  <thead>\n",
       "    <tr style=\"text-align: right;\">\n",
       "      <th></th>\n",
       "      <th>planename</th>\n",
       "      <th>crosstime</th>\n",
       "      <th>counter%</th>\n",
       "      <th>time%</th>\n",
       "      <th>distance%</th>\n",
       "      <th>counter</th>\n",
       "      <th>time</th>\n",
       "      <th>distance</th>\n",
       "      <th>latitude</th>\n",
       "      <th>longitude</th>\n",
       "      <th>altitude</th>\n",
       "      <th>type</th>\n",
       "      <th>sectorname</th>\n",
       "      <th>Unnamed: 13</th>\n",
       "      <th>Unnamed: 14</th>\n",
       "      <th>Unnamed: 15</th>\n",
       "    </tr>\n",
       "  </thead>\n",
       "  <tbody>\n",
       "    <tr>\n",
       "      <th>0</th>\n",
       "      <td>FLT0232</td>\n",
       "      <td>18049</td>\n",
       "      <td></td>\n",
       "      <td></td>\n",
       "      <td></td>\n",
       "      <td></td>\n",
       "      <td></td>\n",
       "      <td></td>\n",
       "      <td>29.972764</td>\n",
       "      <td>125.165136</td>\n",
       "      <td>35975</td>\n",
       "      <td>B77W</td>\n",
       "      <td>begin</td>\n",
       "      <td>NaN</td>\n",
       "      <td>NaN</td>\n",
       "      <td>NaN</td>\n",
       "    </tr>\n",
       "    <tr>\n",
       "      <th>1</th>\n",
       "      <td>FLT0232</td>\n",
       "      <td>18049</td>\n",
       "      <td></td>\n",
       "      <td></td>\n",
       "      <td></td>\n",
       "      <td></td>\n",
       "      <td></td>\n",
       "      <td></td>\n",
       "      <td>29.972764</td>\n",
       "      <td>125.165136</td>\n",
       "      <td>35975</td>\n",
       "      <td>B77W</td>\n",
       "      <td>'F15'</td>\n",
       "      <td>NaN</td>\n",
       "      <td>NaN</td>\n",
       "      <td>NaN</td>\n",
       "    </tr>\n",
       "    <tr>\n",
       "      <th>2</th>\n",
       "      <td>FLT0232</td>\n",
       "      <td>19013</td>\n",
       "      <td></td>\n",
       "      <td></td>\n",
       "      <td></td>\n",
       "      <td></td>\n",
       "      <td></td>\n",
       "      <td></td>\n",
       "      <td>28.348859</td>\n",
       "      <td>124.003006</td>\n",
       "      <td>35997</td>\n",
       "      <td>B77W</td>\n",
       "      <td>end</td>\n",
       "      <td>NaN</td>\n",
       "      <td>NaN</td>\n",
       "      <td>NaN</td>\n",
       "    </tr>\n",
       "    <tr>\n",
       "      <th>3</th>\n",
       "      <td>FLT0233</td>\n",
       "      <td>18068</td>\n",
       "      <td></td>\n",
       "      <td></td>\n",
       "      <td></td>\n",
       "      <td></td>\n",
       "      <td></td>\n",
       "      <td></td>\n",
       "      <td>21.142148</td>\n",
       "      <td>127.382083</td>\n",
       "      <td>31000</td>\n",
       "      <td>B739</td>\n",
       "      <td>begin</td>\n",
       "      <td>NaN</td>\n",
       "      <td>NaN</td>\n",
       "      <td>NaN</td>\n",
       "    </tr>\n",
       "    <tr>\n",
       "      <th>4</th>\n",
       "      <td>FLT0233</td>\n",
       "      <td>18068</td>\n",
       "      <td></td>\n",
       "      <td></td>\n",
       "      <td></td>\n",
       "      <td></td>\n",
       "      <td></td>\n",
       "      <td></td>\n",
       "      <td>21.142148</td>\n",
       "      <td>127.382083</td>\n",
       "      <td>31000</td>\n",
       "      <td>B739</td>\n",
       "      <td>'A05'</td>\n",
       "      <td>NaN</td>\n",
       "      <td>NaN</td>\n",
       "      <td>NaN</td>\n",
       "    </tr>\n",
       "  </tbody>\n",
       "</table>\n",
       "</div>"
      ],
      "text/plain": [
       "  planename  crosstime counter% time% distance% counter time distance  \\\n",
       "0   FLT0232      18049                                                  \n",
       "1   FLT0232      18049                                                  \n",
       "2   FLT0232      19013                                                  \n",
       "3   FLT0233      18068                                                  \n",
       "4   FLT0233      18068                                                  \n",
       "\n",
       "    latitude   longitude  altitude  type sectorname Unnamed: 13 Unnamed: 14  \\\n",
       "0  29.972764  125.165136     35975  B77W      begin         NaN         NaN   \n",
       "1  29.972764  125.165136     35975  B77W      'F15'         NaN         NaN   \n",
       "2  28.348859  124.003006     35997  B77W        end         NaN         NaN   \n",
       "3  21.142148  127.382083     31000  B739      begin         NaN         NaN   \n",
       "4  21.142148  127.382083     31000  B739      'A05'         NaN         NaN   \n",
       "\n",
       "  Unnamed: 15  \n",
       "0         NaN  \n",
       "1         NaN  \n",
       "2         NaN  \n",
       "3         NaN  \n",
       "4         NaN  "
      ]
     },
     "execution_count": 22,
     "metadata": {},
     "output_type": "execute_result"
    }
   ],
   "source": [
    "# analyze data\n",
    "DF.head(5)"
   ]
  },
  {
   "cell_type": "code",
   "execution_count": 23,
   "metadata": {},
   "outputs": [
    {
     "name": "stdout",
     "output_type": "stream",
     "text": [
      "<class 'pandas.core.frame.DataFrame'>\n",
      "RangeIndex: 17135 entries, 0 to 17134\n",
      "Data columns (total 16 columns):\n",
      "planename      17135 non-null object\n",
      "crosstime      17135 non-null int64\n",
      "counter%       17135 non-null object\n",
      "time%          17135 non-null object\n",
      "distance%      17135 non-null object\n",
      "counter        17135 non-null object\n",
      "time           17135 non-null object\n",
      "distance       17135 non-null object\n",
      "latitude       17135 non-null float64\n",
      "longitude      17135 non-null float64\n",
      "altitude       17135 non-null int64\n",
      "type           17135 non-null object\n",
      "sectorname     16412 non-null object\n",
      "Unnamed: 13    3696 non-null object\n",
      "Unnamed: 14    263 non-null object\n",
      "Unnamed: 15    1 non-null object\n",
      "dtypes: float64(2), int64(2), object(12)\n",
      "memory usage: 2.1+ MB\n"
     ]
    }
   ],
   "source": [
    "DF.info()"
   ]
  },
  {
   "cell_type": "code",
   "execution_count": 25,
   "metadata": {},
   "outputs": [
    {
     "data": {
      "text/html": [
       "<div>\n",
       "<style scoped>\n",
       "    .dataframe tbody tr th:only-of-type {\n",
       "        vertical-align: middle;\n",
       "    }\n",
       "\n",
       "    .dataframe tbody tr th {\n",
       "        vertical-align: top;\n",
       "    }\n",
       "\n",
       "    .dataframe thead th {\n",
       "        text-align: right;\n",
       "    }\n",
       "</style>\n",
       "<table border=\"1\" class=\"dataframe\">\n",
       "  <thead>\n",
       "    <tr style=\"text-align: right;\">\n",
       "      <th></th>\n",
       "      <th>crosstime</th>\n",
       "      <th>latitude</th>\n",
       "      <th>longitude</th>\n",
       "      <th>altitude</th>\n",
       "    </tr>\n",
       "  </thead>\n",
       "  <tbody>\n",
       "    <tr>\n",
       "      <th>count</th>\n",
       "      <td>17135.000000</td>\n",
       "      <td>17135.000000</td>\n",
       "      <td>17135.000000</td>\n",
       "      <td>17135.000000</td>\n",
       "    </tr>\n",
       "    <tr>\n",
       "      <th>mean</th>\n",
       "      <td>31389.449198</td>\n",
       "      <td>34.424762</td>\n",
       "      <td>135.830470</td>\n",
       "      <td>21297.896644</td>\n",
       "    </tr>\n",
       "    <tr>\n",
       "      <th>std</th>\n",
       "      <td>10322.998520</td>\n",
       "      <td>3.761076</td>\n",
       "      <td>6.006943</td>\n",
       "      <td>14676.930653</td>\n",
       "    </tr>\n",
       "    <tr>\n",
       "      <th>min</th>\n",
       "      <td>0.000000</td>\n",
       "      <td>21.005936</td>\n",
       "      <td>123.915515</td>\n",
       "      <td>0.000000</td>\n",
       "    </tr>\n",
       "    <tr>\n",
       "      <th>25%</th>\n",
       "      <td>27666.000000</td>\n",
       "      <td>33.350536</td>\n",
       "      <td>131.633113</td>\n",
       "      <td>4635.000000</td>\n",
       "    </tr>\n",
       "    <tr>\n",
       "      <th>50%</th>\n",
       "      <td>34174.000000</td>\n",
       "      <td>34.627761</td>\n",
       "      <td>135.963509</td>\n",
       "      <td>26000.000000</td>\n",
       "    </tr>\n",
       "    <tr>\n",
       "      <th>75%</th>\n",
       "      <td>38992.500000</td>\n",
       "      <td>35.545162</td>\n",
       "      <td>139.822755</td>\n",
       "      <td>34983.500000</td>\n",
       "    </tr>\n",
       "    <tr>\n",
       "      <th>max</th>\n",
       "      <td>43199.000000</td>\n",
       "      <td>49.700000</td>\n",
       "      <td>165.000000</td>\n",
       "      <td>43001.000000</td>\n",
       "    </tr>\n",
       "  </tbody>\n",
       "</table>\n",
       "</div>"
      ],
      "text/plain": [
       "          crosstime      latitude     longitude      altitude\n",
       "count  17135.000000  17135.000000  17135.000000  17135.000000\n",
       "mean   31389.449198     34.424762    135.830470  21297.896644\n",
       "std    10322.998520      3.761076      6.006943  14676.930653\n",
       "min        0.000000     21.005936    123.915515      0.000000\n",
       "25%    27666.000000     33.350536    131.633113   4635.000000\n",
       "50%    34174.000000     34.627761    135.963509  26000.000000\n",
       "75%    38992.500000     35.545162    139.822755  34983.500000\n",
       "max    43199.000000     49.700000    165.000000  43001.000000"
      ]
     },
     "execution_count": 25,
     "metadata": {},
     "output_type": "execute_result"
    }
   ],
   "source": [
    "# numerical fields only\n",
    "DF.describe()"
   ]
  },
  {
   "cell_type": "code",
   "execution_count": 27,
   "metadata": {},
   "outputs": [
    {
     "data": {
      "text/plain": [
       "array(['begin', \"'F15'\", 'end', \"'A05'\", \"'N16'\", \"'N02-1'\", \"'N01-1'\",\n",
       "       nan, \"'F07-1'\", \"'F05-1'\", \"'F05-3'\", \"'F07-2'\", \"'F08-1'\",\n",
       "       \"'F17'\", \"'T17'\", \"'T09-1'\", \"'T10-1'\", \"'T09-3'\", \"'T14'\",\n",
       "       \"'T04-1'\", \"'T12-1'\", \"'T13'\", \"'S03-1'\", \"'S01'\", \"'T01'\",\n",
       "       \"'T02'\", \"'T03-1'\", \"'T07-1'\", \"'T04-3'\", \"'A04'\", \"'T11'\",\n",
       "       \"'T24-1'\", \"'T23-1'\", \"'T26-1'\", \"'F03-1'\", \"'F03-2'\", \"'T06'\",\n",
       "       \"'T27-1'\", \"'T26-2'\", \"'T22-1'\", \"'T21-1'\", \"'T23-2'\", \"'F11-2'\",\n",
       "       \"'T12-3'\", \"'F16-1'\", \"'F02-4'\", \"'F01-1'\", \"'F02-1'\", \"'S02'\",\n",
       "       \"'S04-1'\", \"'F06'\", \"'F01-2'\", \"'F16-3'\", \"'F16-2'\", \"'T28'\",\n",
       "       \"'F02-3'\", \"'F02-2'\", \"'A03'\", \"'S03-2'\", \"'T27-2'\", \"'S31'\",\n",
       "       \"'T07-2'\", \"'T22-2'\", \"'A01'\", \"'F03-3'\", \"'S34'\", \"'A02'\",\n",
       "       \"'T09-2'\", \"'T26-4'\", \"'T26-3'\", \"'T04-2'\", \"'T21-2'\", \"'F11-1'\",\n",
       "       \"'T15'\"], dtype=object)"
      ]
     },
     "execution_count": 27,
     "metadata": {},
     "output_type": "execute_result"
    }
   ],
   "source": [
    "# Note: dont use df.field_name, instead using df['field_name'] is much better\n",
    "# analyze values of sectorname\n",
    "DF['sectorname'].unique()"
   ]
  },
  {
   "cell_type": "code",
   "execution_count": 44,
   "metadata": {},
   "outputs": [],
   "source": [
    "# functions\n",
    "# this can be in a separated file for import & reuse in many notebooks\n",
    "\n",
    "# filtered data and write it to a new DataFrame\n",
    "def fil_df(df, sn):\n",
    "    \"\"\"\n",
    "    Args:\n",
    "        df (pandas.DataFrame)\n",
    "        sn (str): name\n",
    "    \"\"\"\n",
    "    idx = df[df.sectorname.str.contains(sn, na=False)].index.tolist()\n",
    "    filtered_df = pd.DataFrame(columns=df.columns)\n",
    "    for i in idx:\n",
    "        # Note: each of this, get 3 rows?\n",
    "        temp1 = df.iloc[[max(0, i - 1), i, min(df.index[-1], i + 1)]]\n",
    "        \n",
    "        # this is extremely bad!\n",
    "        filtered_df = filtered_df.append(temp1, ignore_index=True)\n",
    "    return filtered_df\n",
    "\n",
    "# filtered data and write it to a new DataFrame\n",
    "def fil_df_improved(df, sn):\n",
    "    \"\"\"I suppoes you want to filter sector with names contains sn, just do this\n",
    "\n",
    "    Args:\n",
    "        df (pandas.DataFrame)\n",
    "        sn (str): name\n",
    "    \"\"\"\n",
    "    return df[df.sectorname.str.contains(sn, na=False)]\n",
    "\n",
    "\n",
    "# convert data\n",
    "def transpose_df(df):\n",
    "    \"\"\"Note: to transpose df, just use df.T, like a matrix.\n",
    "    \"\"\"\n",
    "    tdf = pd.DataFrame(columns=['plane_name',\n",
    "                                'begin_time',\n",
    "                                'leaving_time',\n",
    "                                'previous_sector',\n",
    "                                'current_sector',\n",
    "                                'next_sector'])\n",
    "\n",
    "    for row in range(1, len(df.index), 3):\n",
    "        temp = pd.DataFrame([[df.at[row, 'planename'],\n",
    "                              df.at[row, 'crosstime'],\n",
    "                              df.at[min(row + 1, len(df.index) - 1), 'crosstime'],\n",
    "                              df.at[row - 1, 'sectorname'],\n",
    "                              df.at[row, 'sectorname'],\n",
    "                              df.at[min(row + 1, len(df.index) - 1), 'sectorname']]], columns=tdf.columns)\n",
    "        tdf = tdf.append(temp, ignore_index=True)\n",
    "    return tdf\n",
    "\n",
    "\n",
    "# function to calculate sector count\n",
    "def sector_count(df, d, st):\n",
    "    nst = int(d / st) + 1\n",
    "    count = [0] * nst\n",
    "    for line in df.index:\n",
    "        if df.at[line, 'begin_time'] > d:\n",
    "            pass\n",
    "        elif df.at[line, 'begin_time'] == d:\n",
    "            count[nst - 1] = count[nst - 1] + 1\n",
    "        elif df.at[line, 'begin_time'] < d:\n",
    "            if int(df.at[line, 'begin_time'] / st) == int(df.at[line, 'leaving_time'] / st):\n",
    "                pass\n",
    "            else:\n",
    "                for i in range(math.ceil(df.at[line, 'begin_time'] / st),\n",
    "                               min(nst, math.floor(df.at[line, 'leaving_time'] / st) + 1)):\n",
    "                    count[i] = count[i] + 1\n",
    "    return count\n",
    "\n",
    "\n",
    "# output to csv file\n",
    "def output_csv_no_index(df, sn):\n",
    "    df.to_csv('result/result-' + sn + '.csv', index=False)\n",
    "\n",
    "\n",
    "# plotting function\n",
    "def plotting(count, sn):\n",
    "    plt.plot(count)\n",
    "    plt.xlabel('Time')\n",
    "    plt.ylabel('Sector count [number of airplanes]')\n",
    "    plt.title('Number of airplanes in Sector ' + sn)\n",
    "    plt.axis([0, len(z), 0, max(z) + 1])\n",
    "    plt.yticks(np.arange(0, max(z) + 1, 1))\n",
    "    # additional plotting parameters\n",
    "    plt.grid()\n",
    "    # plt.xticks(np.arange(0, len(sector_count), 5))\n",
    "    # plt.setp(plt.gca().get_xticklabels(), rotation=45, ha=\"right\")\n",
    "    plt.show()"
   ]
  },
  {
   "cell_type": "code",
   "execution_count": 45,
   "metadata": {},
   "outputs": [],
   "source": [
    "# Note: do not use input, no production or data analysis code using input!\n",
    "# using var, and can be changed later\n",
    "name = 'end'\n",
    "\n",
    "# get the observation period\n",
    "duration = 1 * 3600 # 3 hours\n",
    "\n",
    "# get the duration of one time step\n",
    "step = 1 * 60 # minutes"
   ]
  },
  {
   "cell_type": "code",
   "execution_count": 33,
   "metadata": {},
   "outputs": [
    {
     "name": "stdout",
     "output_type": "stream",
     "text": [
      "CPU times: user 4.25 s, sys: 45.9 ms, total: 4.3 s\n",
      "Wall time: 4.3 s\n"
     ]
    }
   ],
   "source": [
    "%%time\n",
    "x = fil_df(DF, name)"
   ]
  },
  {
   "cell_type": "code",
   "execution_count": 34,
   "metadata": {},
   "outputs": [
    {
     "name": "stdout",
     "output_type": "stream",
     "text": [
      "CPU times: user 10.2 ms, sys: 722 µs, total: 10.9 ms\n",
      "Wall time: 10.1 ms\n"
     ]
    }
   ],
   "source": [
    "# much better performance\n",
    "%%time\n",
    "x2 = fil_df_improved(DF, name)"
   ]
  },
  {
   "cell_type": "code",
   "execution_count": 47,
   "metadata": {},
   "outputs": [
    {
     "name": "stdout",
     "output_type": "stream",
     "text": [
      "4845 1615\n"
     ]
    }
   ],
   "source": [
    "# something wrong, Did I get wrong idea of the fil_df?\n",
    "print(f\"{len(x)} {len(x2)}\")"
   ]
  },
  {
   "cell_type": "code",
   "execution_count": 46,
   "metadata": {},
   "outputs": [
    {
     "data": {
      "text/plain": [
       "<Figure size 1440x720 with 0 Axes>"
      ]
     },
     "metadata": {},
     "output_type": "display_data"
    }
   ],
   "source": [
    "# write data to the new DataFrame\n",
    "x = fil_df(DF, name)\n",
    "# print(x)\n",
    "\n",
    "# convert data\n",
    "y = transpose_df(x)  #  can be used x.T, if x is pandas.DataFrame\n",
    "\n",
    "\n",
    "# sector count\n",
    "z = sector_count(y, duration, step)\n",
    "\n",
    "# output result\n",
    "# output_csv_no_index(y, name)"
   ]
  },
  {
   "cell_type": "code",
   "execution_count": 49,
   "metadata": {},
   "outputs": [
    {
     "data": {
      "image/png": "[encoded data removed]",
      "text/plain": [
       "<Figure size 1440x720 with 1 Axes>"
      ]
     },
     "metadata": {},
     "output_type": "display_data"
    }
   ],
   "source": [
    "# plotting\n",
    "fig = plt.figure(figsize=(20, 10))  # size, in inch if I remember correctly\n",
    "plotting(z, name)"
   ]
  },
  {
   "cell_type": "code",
   "execution_count": null,
   "metadata": {},
   "outputs": [],
   "source": []
  }
 ],
 "metadata": {
  "kernelspec": {
   "display_name": "Python 3",
   "language": "python",
   "name": "python3"
  },
  "language_info": {
   "codemirror_mode": {
    "name": "ipython",
    "version": 3
   },
   "file_extension": ".py",
   "mimetype": "text/x-python",
   "name": "python",
   "nbconvert_exporter": "python",
   "pygments_lexer": "ipython3",
   "version": "3.7.0"
  }
 },
 "nbformat": 4,
 "nbformat_minor": 2
}
